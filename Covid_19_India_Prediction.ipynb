{
 "cells": [
  {
   "cell_type": "markdown",
   "metadata": {
    "id": "-Ee6VxGCRqKL"
   },
   "source": [
    "## COVID-19 Prediction for India\n",
    "\n",
    "#### Author: Debapratim Gupta ( https://www.linkedin.com/in/dgupta1234/ )"
   ]
  },
  {
   "cell_type": "code",
   "execution_count": 2,
   "metadata": {
    "id": "RQD48CQ6RYDp"
   },
   "outputs": [],
   "source": [
    "# Importing the libraries\n",
    "\n",
    "import pandas as pd\n",
    "import numpy as np"
   ]
  },
  {
   "cell_type": "markdown",
   "metadata": {
    "id": "hzi9-BuFSDcx"
   },
   "source": [
    "#### Getting the raw file link of Confirmed Cases from John Hopkins University’s Center for Systems Science and Engineering (JHU CSSE)"
   ]
  },
  {
   "cell_type": "code",
   "execution_count": 3,
   "metadata": {
    "id": "aAjjZeCzR823"
   },
   "outputs": [],
   "source": [
    "confimed_cases_file_link = \"https://raw.githubusercontent.com/CSSEGISandData/COVID-19/master/csse_covid_19_data/csse_covid_19_time_series/time_series_covid19_confirmed_global.csv\""
   ]
  },
  {
   "cell_type": "markdown",
   "metadata": {
    "id": "9YW9bFjCSfJX"
   },
   "source": [
    "#### Downloading the dataset into dataframe"
   ]
  },
  {
   "cell_type": "code",
   "execution_count": 4,
   "metadata": {
    "id": "x9OlBNEWST1h"
   },
   "outputs": [],
   "source": [
    "confirmed_df = pd.read_csv(confimed_cases_file_link)"
   ]
  },
  {
   "cell_type": "markdown",
   "metadata": {
    "id": "GrMS_uf0Srzi"
   },
   "source": [
    "#### Viewing the dataframe"
   ]
  },
  {
   "cell_type": "code",
   "execution_count": 5,
   "metadata": {
    "colab": {
     "base_uri": "https://localhost:8080/",
     "height": 253
    },
    "id": "5JqwnSg-Sw9o",
    "outputId": "89750c8e-9dc0-42c1-c76a-4236e9723c39"
   },
   "outputs": [
    {
     "data": {
      "text/html": [
       "<div>\n",
       "<style scoped>\n",
       "    .dataframe tbody tr th:only-of-type {\n",
       "        vertical-align: middle;\n",
       "    }\n",
       "\n",
       "    .dataframe tbody tr th {\n",
       "        vertical-align: top;\n",
       "    }\n",
       "\n",
       "    .dataframe thead th {\n",
       "        text-align: right;\n",
       "    }\n",
       "</style>\n",
       "<table border=\"1\" class=\"dataframe\">\n",
       "  <thead>\n",
       "    <tr style=\"text-align: right;\">\n",
       "      <th></th>\n",
       "      <th>Province/State</th>\n",
       "      <th>Country/Region</th>\n",
       "      <th>Lat</th>\n",
       "      <th>Long</th>\n",
       "      <th>1/22/20</th>\n",
       "      <th>1/23/20</th>\n",
       "      <th>1/24/20</th>\n",
       "      <th>1/25/20</th>\n",
       "      <th>1/26/20</th>\n",
       "      <th>1/27/20</th>\n",
       "      <th>1/28/20</th>\n",
       "      <th>1/29/20</th>\n",
       "      <th>1/30/20</th>\n",
       "      <th>1/31/20</th>\n",
       "      <th>2/1/20</th>\n",
       "      <th>2/2/20</th>\n",
       "      <th>2/3/20</th>\n",
       "      <th>2/4/20</th>\n",
       "      <th>2/5/20</th>\n",
       "      <th>2/6/20</th>\n",
       "      <th>2/7/20</th>\n",
       "      <th>2/8/20</th>\n",
       "      <th>2/9/20</th>\n",
       "      <th>2/10/20</th>\n",
       "      <th>2/11/20</th>\n",
       "      <th>2/12/20</th>\n",
       "      <th>2/13/20</th>\n",
       "      <th>2/14/20</th>\n",
       "      <th>2/15/20</th>\n",
       "      <th>2/16/20</th>\n",
       "      <th>2/17/20</th>\n",
       "      <th>2/18/20</th>\n",
       "      <th>2/19/20</th>\n",
       "      <th>2/20/20</th>\n",
       "      <th>2/21/20</th>\n",
       "      <th>2/22/20</th>\n",
       "      <th>2/23/20</th>\n",
       "      <th>2/24/20</th>\n",
       "      <th>2/25/20</th>\n",
       "      <th>2/26/20</th>\n",
       "      <th>...</th>\n",
       "      <th>2/12/21</th>\n",
       "      <th>2/13/21</th>\n",
       "      <th>2/14/21</th>\n",
       "      <th>2/15/21</th>\n",
       "      <th>2/16/21</th>\n",
       "      <th>2/17/21</th>\n",
       "      <th>2/18/21</th>\n",
       "      <th>2/19/21</th>\n",
       "      <th>2/20/21</th>\n",
       "      <th>2/21/21</th>\n",
       "      <th>2/22/21</th>\n",
       "      <th>2/23/21</th>\n",
       "      <th>2/24/21</th>\n",
       "      <th>2/25/21</th>\n",
       "      <th>2/26/21</th>\n",
       "      <th>2/27/21</th>\n",
       "      <th>2/28/21</th>\n",
       "      <th>3/1/21</th>\n",
       "      <th>3/2/21</th>\n",
       "      <th>3/3/21</th>\n",
       "      <th>3/4/21</th>\n",
       "      <th>3/5/21</th>\n",
       "      <th>3/6/21</th>\n",
       "      <th>3/7/21</th>\n",
       "      <th>3/8/21</th>\n",
       "      <th>3/9/21</th>\n",
       "      <th>3/10/21</th>\n",
       "      <th>3/11/21</th>\n",
       "      <th>3/12/21</th>\n",
       "      <th>3/13/21</th>\n",
       "      <th>3/14/21</th>\n",
       "      <th>3/15/21</th>\n",
       "      <th>3/16/21</th>\n",
       "      <th>3/17/21</th>\n",
       "      <th>3/18/21</th>\n",
       "      <th>3/19/21</th>\n",
       "      <th>3/20/21</th>\n",
       "      <th>3/21/21</th>\n",
       "      <th>3/22/21</th>\n",
       "      <th>3/23/21</th>\n",
       "    </tr>\n",
       "  </thead>\n",
       "  <tbody>\n",
       "    <tr>\n",
       "      <th>0</th>\n",
       "      <td>NaN</td>\n",
       "      <td>Afghanistan</td>\n",
       "      <td>33.93911</td>\n",
       "      <td>67.709953</td>\n",
       "      <td>0</td>\n",
       "      <td>0</td>\n",
       "      <td>0</td>\n",
       "      <td>0</td>\n",
       "      <td>0</td>\n",
       "      <td>0</td>\n",
       "      <td>0</td>\n",
       "      <td>0</td>\n",
       "      <td>0</td>\n",
       "      <td>0</td>\n",
       "      <td>0</td>\n",
       "      <td>0</td>\n",
       "      <td>0</td>\n",
       "      <td>0</td>\n",
       "      <td>0</td>\n",
       "      <td>0</td>\n",
       "      <td>0</td>\n",
       "      <td>0</td>\n",
       "      <td>0</td>\n",
       "      <td>0</td>\n",
       "      <td>0</td>\n",
       "      <td>0</td>\n",
       "      <td>0</td>\n",
       "      <td>0</td>\n",
       "      <td>0</td>\n",
       "      <td>0</td>\n",
       "      <td>0</td>\n",
       "      <td>0</td>\n",
       "      <td>0</td>\n",
       "      <td>0</td>\n",
       "      <td>0</td>\n",
       "      <td>0</td>\n",
       "      <td>0</td>\n",
       "      <td>1</td>\n",
       "      <td>1</td>\n",
       "      <td>1</td>\n",
       "      <td>...</td>\n",
       "      <td>55445</td>\n",
       "      <td>55473</td>\n",
       "      <td>55492</td>\n",
       "      <td>55514</td>\n",
       "      <td>55518</td>\n",
       "      <td>55540</td>\n",
       "      <td>55557</td>\n",
       "      <td>55575</td>\n",
       "      <td>55580</td>\n",
       "      <td>55604</td>\n",
       "      <td>55617</td>\n",
       "      <td>55646</td>\n",
       "      <td>55664</td>\n",
       "      <td>55680</td>\n",
       "      <td>55696</td>\n",
       "      <td>55707</td>\n",
       "      <td>55714</td>\n",
       "      <td>55733</td>\n",
       "      <td>55759</td>\n",
       "      <td>55770</td>\n",
       "      <td>55775</td>\n",
       "      <td>55827</td>\n",
       "      <td>55840</td>\n",
       "      <td>55847</td>\n",
       "      <td>55876</td>\n",
       "      <td>55876</td>\n",
       "      <td>55894</td>\n",
       "      <td>55917</td>\n",
       "      <td>55959</td>\n",
       "      <td>55959</td>\n",
       "      <td>55985</td>\n",
       "      <td>55985</td>\n",
       "      <td>55995</td>\n",
       "      <td>56016</td>\n",
       "      <td>56044</td>\n",
       "      <td>56069</td>\n",
       "      <td>56093</td>\n",
       "      <td>56103</td>\n",
       "      <td>56153</td>\n",
       "      <td>56177</td>\n",
       "    </tr>\n",
       "    <tr>\n",
       "      <th>1</th>\n",
       "      <td>NaN</td>\n",
       "      <td>Albania</td>\n",
       "      <td>41.15330</td>\n",
       "      <td>20.168300</td>\n",
       "      <td>0</td>\n",
       "      <td>0</td>\n",
       "      <td>0</td>\n",
       "      <td>0</td>\n",
       "      <td>0</td>\n",
       "      <td>0</td>\n",
       "      <td>0</td>\n",
       "      <td>0</td>\n",
       "      <td>0</td>\n",
       "      <td>0</td>\n",
       "      <td>0</td>\n",
       "      <td>0</td>\n",
       "      <td>0</td>\n",
       "      <td>0</td>\n",
       "      <td>0</td>\n",
       "      <td>0</td>\n",
       "      <td>0</td>\n",
       "      <td>0</td>\n",
       "      <td>0</td>\n",
       "      <td>0</td>\n",
       "      <td>0</td>\n",
       "      <td>0</td>\n",
       "      <td>0</td>\n",
       "      <td>0</td>\n",
       "      <td>0</td>\n",
       "      <td>0</td>\n",
       "      <td>0</td>\n",
       "      <td>0</td>\n",
       "      <td>0</td>\n",
       "      <td>0</td>\n",
       "      <td>0</td>\n",
       "      <td>0</td>\n",
       "      <td>0</td>\n",
       "      <td>0</td>\n",
       "      <td>0</td>\n",
       "      <td>0</td>\n",
       "      <td>...</td>\n",
       "      <td>90835</td>\n",
       "      <td>91987</td>\n",
       "      <td>93075</td>\n",
       "      <td>93850</td>\n",
       "      <td>94651</td>\n",
       "      <td>95726</td>\n",
       "      <td>96838</td>\n",
       "      <td>97909</td>\n",
       "      <td>99062</td>\n",
       "      <td>100246</td>\n",
       "      <td>101285</td>\n",
       "      <td>102306</td>\n",
       "      <td>103327</td>\n",
       "      <td>104313</td>\n",
       "      <td>105229</td>\n",
       "      <td>106215</td>\n",
       "      <td>107167</td>\n",
       "      <td>107931</td>\n",
       "      <td>108823</td>\n",
       "      <td>109674</td>\n",
       "      <td>110521</td>\n",
       "      <td>111301</td>\n",
       "      <td>112078</td>\n",
       "      <td>112897</td>\n",
       "      <td>113580</td>\n",
       "      <td>114209</td>\n",
       "      <td>114840</td>\n",
       "      <td>115442</td>\n",
       "      <td>116123</td>\n",
       "      <td>116821</td>\n",
       "      <td>117474</td>\n",
       "      <td>118017</td>\n",
       "      <td>118492</td>\n",
       "      <td>118938</td>\n",
       "      <td>119528</td>\n",
       "      <td>120022</td>\n",
       "      <td>120541</td>\n",
       "      <td>121200</td>\n",
       "      <td>121544</td>\n",
       "      <td>121847</td>\n",
       "    </tr>\n",
       "    <tr>\n",
       "      <th>2</th>\n",
       "      <td>NaN</td>\n",
       "      <td>Algeria</td>\n",
       "      <td>28.03390</td>\n",
       "      <td>1.659600</td>\n",
       "      <td>0</td>\n",
       "      <td>0</td>\n",
       "      <td>0</td>\n",
       "      <td>0</td>\n",
       "      <td>0</td>\n",
       "      <td>0</td>\n",
       "      <td>0</td>\n",
       "      <td>0</td>\n",
       "      <td>0</td>\n",
       "      <td>0</td>\n",
       "      <td>0</td>\n",
       "      <td>0</td>\n",
       "      <td>0</td>\n",
       "      <td>0</td>\n",
       "      <td>0</td>\n",
       "      <td>0</td>\n",
       "      <td>0</td>\n",
       "      <td>0</td>\n",
       "      <td>0</td>\n",
       "      <td>0</td>\n",
       "      <td>0</td>\n",
       "      <td>0</td>\n",
       "      <td>0</td>\n",
       "      <td>0</td>\n",
       "      <td>0</td>\n",
       "      <td>0</td>\n",
       "      <td>0</td>\n",
       "      <td>0</td>\n",
       "      <td>0</td>\n",
       "      <td>0</td>\n",
       "      <td>0</td>\n",
       "      <td>0</td>\n",
       "      <td>0</td>\n",
       "      <td>0</td>\n",
       "      <td>1</td>\n",
       "      <td>1</td>\n",
       "      <td>...</td>\n",
       "      <td>110303</td>\n",
       "      <td>110513</td>\n",
       "      <td>110711</td>\n",
       "      <td>110894</td>\n",
       "      <td>111069</td>\n",
       "      <td>111247</td>\n",
       "      <td>111418</td>\n",
       "      <td>111600</td>\n",
       "      <td>111764</td>\n",
       "      <td>111917</td>\n",
       "      <td>112094</td>\n",
       "      <td>112279</td>\n",
       "      <td>112461</td>\n",
       "      <td>112622</td>\n",
       "      <td>112805</td>\n",
       "      <td>112960</td>\n",
       "      <td>113092</td>\n",
       "      <td>113255</td>\n",
       "      <td>113430</td>\n",
       "      <td>113593</td>\n",
       "      <td>113761</td>\n",
       "      <td>113948</td>\n",
       "      <td>114104</td>\n",
       "      <td>114234</td>\n",
       "      <td>114382</td>\n",
       "      <td>114543</td>\n",
       "      <td>114681</td>\n",
       "      <td>114851</td>\n",
       "      <td>115008</td>\n",
       "      <td>115143</td>\n",
       "      <td>115265</td>\n",
       "      <td>115410</td>\n",
       "      <td>115540</td>\n",
       "      <td>115688</td>\n",
       "      <td>115842</td>\n",
       "      <td>115970</td>\n",
       "      <td>116066</td>\n",
       "      <td>116157</td>\n",
       "      <td>116255</td>\n",
       "      <td>116349</td>\n",
       "    </tr>\n",
       "    <tr>\n",
       "      <th>3</th>\n",
       "      <td>NaN</td>\n",
       "      <td>Andorra</td>\n",
       "      <td>42.50630</td>\n",
       "      <td>1.521800</td>\n",
       "      <td>0</td>\n",
       "      <td>0</td>\n",
       "      <td>0</td>\n",
       "      <td>0</td>\n",
       "      <td>0</td>\n",
       "      <td>0</td>\n",
       "      <td>0</td>\n",
       "      <td>0</td>\n",
       "      <td>0</td>\n",
       "      <td>0</td>\n",
       "      <td>0</td>\n",
       "      <td>0</td>\n",
       "      <td>0</td>\n",
       "      <td>0</td>\n",
       "      <td>0</td>\n",
       "      <td>0</td>\n",
       "      <td>0</td>\n",
       "      <td>0</td>\n",
       "      <td>0</td>\n",
       "      <td>0</td>\n",
       "      <td>0</td>\n",
       "      <td>0</td>\n",
       "      <td>0</td>\n",
       "      <td>0</td>\n",
       "      <td>0</td>\n",
       "      <td>0</td>\n",
       "      <td>0</td>\n",
       "      <td>0</td>\n",
       "      <td>0</td>\n",
       "      <td>0</td>\n",
       "      <td>0</td>\n",
       "      <td>0</td>\n",
       "      <td>0</td>\n",
       "      <td>0</td>\n",
       "      <td>0</td>\n",
       "      <td>0</td>\n",
       "      <td>...</td>\n",
       "      <td>10427</td>\n",
       "      <td>10463</td>\n",
       "      <td>10503</td>\n",
       "      <td>10538</td>\n",
       "      <td>10555</td>\n",
       "      <td>10583</td>\n",
       "      <td>10610</td>\n",
       "      <td>10645</td>\n",
       "      <td>10672</td>\n",
       "      <td>10699</td>\n",
       "      <td>10712</td>\n",
       "      <td>10739</td>\n",
       "      <td>10775</td>\n",
       "      <td>10799</td>\n",
       "      <td>10822</td>\n",
       "      <td>10849</td>\n",
       "      <td>10866</td>\n",
       "      <td>10889</td>\n",
       "      <td>10908</td>\n",
       "      <td>10948</td>\n",
       "      <td>10976</td>\n",
       "      <td>10998</td>\n",
       "      <td>11019</td>\n",
       "      <td>11042</td>\n",
       "      <td>11069</td>\n",
       "      <td>11089</td>\n",
       "      <td>11130</td>\n",
       "      <td>11130</td>\n",
       "      <td>11199</td>\n",
       "      <td>11228</td>\n",
       "      <td>11266</td>\n",
       "      <td>11289</td>\n",
       "      <td>11319</td>\n",
       "      <td>11360</td>\n",
       "      <td>11393</td>\n",
       "      <td>11431</td>\n",
       "      <td>11481</td>\n",
       "      <td>11517</td>\n",
       "      <td>11545</td>\n",
       "      <td>11591</td>\n",
       "    </tr>\n",
       "    <tr>\n",
       "      <th>4</th>\n",
       "      <td>NaN</td>\n",
       "      <td>Angola</td>\n",
       "      <td>-11.20270</td>\n",
       "      <td>17.873900</td>\n",
       "      <td>0</td>\n",
       "      <td>0</td>\n",
       "      <td>0</td>\n",
       "      <td>0</td>\n",
       "      <td>0</td>\n",
       "      <td>0</td>\n",
       "      <td>0</td>\n",
       "      <td>0</td>\n",
       "      <td>0</td>\n",
       "      <td>0</td>\n",
       "      <td>0</td>\n",
       "      <td>0</td>\n",
       "      <td>0</td>\n",
       "      <td>0</td>\n",
       "      <td>0</td>\n",
       "      <td>0</td>\n",
       "      <td>0</td>\n",
       "      <td>0</td>\n",
       "      <td>0</td>\n",
       "      <td>0</td>\n",
       "      <td>0</td>\n",
       "      <td>0</td>\n",
       "      <td>0</td>\n",
       "      <td>0</td>\n",
       "      <td>0</td>\n",
       "      <td>0</td>\n",
       "      <td>0</td>\n",
       "      <td>0</td>\n",
       "      <td>0</td>\n",
       "      <td>0</td>\n",
       "      <td>0</td>\n",
       "      <td>0</td>\n",
       "      <td>0</td>\n",
       "      <td>0</td>\n",
       "      <td>0</td>\n",
       "      <td>0</td>\n",
       "      <td>...</td>\n",
       "      <td>20294</td>\n",
       "      <td>20329</td>\n",
       "      <td>20366</td>\n",
       "      <td>20381</td>\n",
       "      <td>20389</td>\n",
       "      <td>20400</td>\n",
       "      <td>20452</td>\n",
       "      <td>20478</td>\n",
       "      <td>20499</td>\n",
       "      <td>20519</td>\n",
       "      <td>20548</td>\n",
       "      <td>20584</td>\n",
       "      <td>20640</td>\n",
       "      <td>20695</td>\n",
       "      <td>20759</td>\n",
       "      <td>20782</td>\n",
       "      <td>20807</td>\n",
       "      <td>20854</td>\n",
       "      <td>20882</td>\n",
       "      <td>20923</td>\n",
       "      <td>20981</td>\n",
       "      <td>21026</td>\n",
       "      <td>21055</td>\n",
       "      <td>21086</td>\n",
       "      <td>21108</td>\n",
       "      <td>21114</td>\n",
       "      <td>21161</td>\n",
       "      <td>21205</td>\n",
       "      <td>21265</td>\n",
       "      <td>21323</td>\n",
       "      <td>21380</td>\n",
       "      <td>21407</td>\n",
       "      <td>21446</td>\n",
       "      <td>21489</td>\n",
       "      <td>21558</td>\n",
       "      <td>21642</td>\n",
       "      <td>21696</td>\n",
       "      <td>21733</td>\n",
       "      <td>21757</td>\n",
       "      <td>21774</td>\n",
       "    </tr>\n",
       "  </tbody>\n",
       "</table>\n",
       "<p>5 rows × 431 columns</p>\n",
       "</div>"
      ],
      "text/plain": [
       "  Province/State Country/Region       Lat  ...  3/21/21  3/22/21  3/23/21\n",
       "0            NaN    Afghanistan  33.93911  ...    56103    56153    56177\n",
       "1            NaN        Albania  41.15330  ...   121200   121544   121847\n",
       "2            NaN        Algeria  28.03390  ...   116157   116255   116349\n",
       "3            NaN        Andorra  42.50630  ...    11517    11545    11591\n",
       "4            NaN         Angola -11.20270  ...    21733    21757    21774\n",
       "\n",
       "[5 rows x 431 columns]"
      ]
     },
     "execution_count": 5,
     "metadata": {
      "tags": []
     },
     "output_type": "execute_result"
    }
   ],
   "source": [
    "confirmed_df.head()"
   ]
  },
  {
   "cell_type": "markdown",
   "metadata": {
    "id": "09tgTuSZS7Ip"
   },
   "source": [
    "#### Grouping the dataframe nation-wise only and eliminating the Provinces"
   ]
  },
  {
   "cell_type": "code",
   "execution_count": 6,
   "metadata": {
    "id": "gBtdYiH2S0dy"
   },
   "outputs": [],
   "source": [
    "df1 = confirmed_df.groupby('Country/Region').sum().reset_index()"
   ]
  },
  {
   "cell_type": "markdown",
   "metadata": {
    "id": "w-BQbtSTTCLh"
   },
   "source": [
    "#### Creating a list of dates"
   ]
  },
  {
   "cell_type": "code",
   "execution_count": 7,
   "metadata": {
    "id": "UghKUpGyTFj3"
   },
   "outputs": [],
   "source": [
    "dates = list(confirmed_df.columns[4:])\n",
    "dates = list(pd.to_datetime(dates))"
   ]
  },
  {
   "cell_type": "markdown",
   "metadata": {
    "id": "R6KJRcBcTLYG"
   },
   "source": [
    "### Prediction of Confirmed Cases in India using Prophet"
   ]
  },
  {
   "cell_type": "code",
   "execution_count": 8,
   "metadata": {
    "id": "I1zeykquTIzg"
   },
   "outputs": [],
   "source": [
    "from fbprophet import Prophet\n",
    "from fbprophet.plot import plot_plotly, add_changepoints_to_plot\n",
    "\n",
    "k = df1[df1['Country/Region']=='India'].loc[:,'1/22/20':]\n",
    "india_confirmed = k.values.tolist()[0] \n",
    "data = pd.DataFrame(columns = ['ds','y'])\n",
    "data['ds'] = dates\n",
    "data['y'] = india_confirmed"
   ]
  },
  {
   "cell_type": "code",
   "execution_count": 9,
   "metadata": {
    "colab": {
     "base_uri": "https://localhost:8080/",
     "height": 565
    },
    "id": "PT_7SWdwTV7U",
    "outputId": "5c8fa40f-7b1b-4daa-90ad-9a980c25e3e9"
   },
   "outputs": [
    {
     "name": "stderr",
     "output_type": "stream",
     "text": [
      "INFO:numexpr.utils:NumExpr defaulting to 2 threads.\n",
      "INFO:fbprophet:Disabling yearly seasonality. Run prophet with yearly_seasonality=True to override this.\n",
      "INFO:fbprophet:Disabling daily seasonality. Run prophet with daily_seasonality=True to override this.\n"
     ]
    },
    {
     "data": {
      "text/html": [
       "<div>\n",
       "<style scoped>\n",
       "    .dataframe tbody tr th:only-of-type {\n",
       "        vertical-align: middle;\n",
       "    }\n",
       "\n",
       "    .dataframe tbody tr th {\n",
       "        vertical-align: top;\n",
       "    }\n",
       "\n",
       "    .dataframe thead th {\n",
       "        text-align: right;\n",
       "    }\n",
       "</style>\n",
       "<table border=\"1\" class=\"dataframe\">\n",
       "  <thead>\n",
       "    <tr style=\"text-align: right;\">\n",
       "      <th></th>\n",
       "      <th>ds</th>\n",
       "    </tr>\n",
       "  </thead>\n",
       "  <tbody>\n",
       "    <tr>\n",
       "      <th>427</th>\n",
       "      <td>2021-03-24</td>\n",
       "    </tr>\n",
       "    <tr>\n",
       "      <th>428</th>\n",
       "      <td>2021-03-25</td>\n",
       "    </tr>\n",
       "    <tr>\n",
       "      <th>429</th>\n",
       "      <td>2021-03-26</td>\n",
       "    </tr>\n",
       "    <tr>\n",
       "      <th>430</th>\n",
       "      <td>2021-03-27</td>\n",
       "    </tr>\n",
       "    <tr>\n",
       "      <th>431</th>\n",
       "      <td>2021-03-28</td>\n",
       "    </tr>\n",
       "    <tr>\n",
       "      <th>432</th>\n",
       "      <td>2021-03-29</td>\n",
       "    </tr>\n",
       "    <tr>\n",
       "      <th>433</th>\n",
       "      <td>2021-03-30</td>\n",
       "    </tr>\n",
       "    <tr>\n",
       "      <th>434</th>\n",
       "      <td>2021-03-31</td>\n",
       "    </tr>\n",
       "    <tr>\n",
       "      <th>435</th>\n",
       "      <td>2021-04-01</td>\n",
       "    </tr>\n",
       "    <tr>\n",
       "      <th>436</th>\n",
       "      <td>2021-04-02</td>\n",
       "    </tr>\n",
       "    <tr>\n",
       "      <th>437</th>\n",
       "      <td>2021-04-03</td>\n",
       "    </tr>\n",
       "    <tr>\n",
       "      <th>438</th>\n",
       "      <td>2021-04-04</td>\n",
       "    </tr>\n",
       "    <tr>\n",
       "      <th>439</th>\n",
       "      <td>2021-04-05</td>\n",
       "    </tr>\n",
       "    <tr>\n",
       "      <th>440</th>\n",
       "      <td>2021-04-06</td>\n",
       "    </tr>\n",
       "    <tr>\n",
       "      <th>441</th>\n",
       "      <td>2021-04-07</td>\n",
       "    </tr>\n",
       "  </tbody>\n",
       "</table>\n",
       "</div>"
      ],
      "text/plain": [
       "            ds\n",
       "427 2021-03-24\n",
       "428 2021-03-25\n",
       "429 2021-03-26\n",
       "430 2021-03-27\n",
       "431 2021-03-28\n",
       "432 2021-03-29\n",
       "433 2021-03-30\n",
       "434 2021-03-31\n",
       "435 2021-04-01\n",
       "436 2021-04-02\n",
       "437 2021-04-03\n",
       "438 2021-04-04\n",
       "439 2021-04-05\n",
       "440 2021-04-06\n",
       "441 2021-04-07"
      ]
     },
     "execution_count": 9,
     "metadata": {
      "tags": []
     },
     "output_type": "execute_result"
    }
   ],
   "source": [
    "prop = Prophet(interval_width=0.95)\n",
    "prop.fit(data)\n",
    "future = prop.make_future_dataframe(periods=15)\n",
    "future.tail(15)"
   ]
  },
  {
   "cell_type": "code",
   "execution_count": 10,
   "metadata": {
    "colab": {
     "base_uri": "https://localhost:8080/",
     "height": 204
    },
    "id": "Rwu3GBP8XnXf",
    "outputId": "843eb8c4-b5b8-48cb-993a-d13ef72eed0f"
   },
   "outputs": [
    {
     "data": {
      "text/html": [
       "<div>\n",
       "<style scoped>\n",
       "    .dataframe tbody tr th:only-of-type {\n",
       "        vertical-align: middle;\n",
       "    }\n",
       "\n",
       "    .dataframe tbody tr th {\n",
       "        vertical-align: top;\n",
       "    }\n",
       "\n",
       "    .dataframe thead th {\n",
       "        text-align: right;\n",
       "    }\n",
       "</style>\n",
       "<table border=\"1\" class=\"dataframe\">\n",
       "  <thead>\n",
       "    <tr style=\"text-align: right;\">\n",
       "      <th></th>\n",
       "      <th>ds</th>\n",
       "      <th>yhat</th>\n",
       "      <th>yhat_lower</th>\n",
       "      <th>yhat_upper</th>\n",
       "    </tr>\n",
       "  </thead>\n",
       "  <tbody>\n",
       "    <tr>\n",
       "      <th>437</th>\n",
       "      <td>2021-04-03</td>\n",
       "      <td>1.168402e+07</td>\n",
       "      <td>1.157688e+07</td>\n",
       "      <td>1.179457e+07</td>\n",
       "    </tr>\n",
       "    <tr>\n",
       "      <th>438</th>\n",
       "      <td>2021-04-04</td>\n",
       "      <td>1.169882e+07</td>\n",
       "      <td>1.156182e+07</td>\n",
       "      <td>1.181025e+07</td>\n",
       "    </tr>\n",
       "    <tr>\n",
       "      <th>439</th>\n",
       "      <td>2021-04-05</td>\n",
       "      <td>1.171034e+07</td>\n",
       "      <td>1.155966e+07</td>\n",
       "      <td>1.184088e+07</td>\n",
       "    </tr>\n",
       "    <tr>\n",
       "      <th>440</th>\n",
       "      <td>2021-04-06</td>\n",
       "      <td>1.172529e+07</td>\n",
       "      <td>1.155300e+07</td>\n",
       "      <td>1.186597e+07</td>\n",
       "    </tr>\n",
       "    <tr>\n",
       "      <th>441</th>\n",
       "      <td>2021-04-07</td>\n",
       "      <td>1.173918e+07</td>\n",
       "      <td>1.154601e+07</td>\n",
       "      <td>1.191672e+07</td>\n",
       "    </tr>\n",
       "  </tbody>\n",
       "</table>\n",
       "</div>"
      ],
      "text/plain": [
       "            ds          yhat    yhat_lower    yhat_upper\n",
       "437 2021-04-03  1.168402e+07  1.157688e+07  1.179457e+07\n",
       "438 2021-04-04  1.169882e+07  1.156182e+07  1.181025e+07\n",
       "439 2021-04-05  1.171034e+07  1.155966e+07  1.184088e+07\n",
       "440 2021-04-06  1.172529e+07  1.155300e+07  1.186597e+07\n",
       "441 2021-04-07  1.173918e+07  1.154601e+07  1.191672e+07"
      ]
     },
     "execution_count": 10,
     "metadata": {
      "tags": []
     },
     "output_type": "execute_result"
    }
   ],
   "source": [
    "forecast = prop.predict(future)\n",
    "forecast[['ds', 'yhat', 'yhat_lower', 'yhat_upper']].tail()"
   ]
  },
  {
   "cell_type": "code",
   "execution_count": 11,
   "metadata": {
    "colab": {
     "base_uri": "https://localhost:8080/",
     "height": 441
    },
    "id": "xDRkGA3cXokV",
    "outputId": "617de2be-d9e8-4536-f97d-e7a85828f2ba"
   },
   "outputs": [
    {
     "data": {
      "image/png": "[encoded data removed]",
      "text/plain": [
       "<Figure size 720x432 with 1 Axes>"
      ]
     },
     "metadata": {
      "tags": []
     },
     "output_type": "display_data"
    }
   ],
   "source": [
    "confirmed_forecast_plot = prop.plot(forecast)"
   ]
  },
  {
   "cell_type": "code",
   "execution_count": 12,
   "metadata": {
    "colab": {
     "base_uri": "https://localhost:8080/",
     "height": 441
    },
    "id": "-G2VMSSdXww1",
    "outputId": "f0b6abb5-ea72-40b1-93dc-6262cad1c292"
   },
   "outputs": [
    {
     "data": {
      "image/png": "[encoded data removed]",
      "text/plain": [
       "<Figure size 648x432 with 2 Axes>"
      ]
     },
     "metadata": {
      "tags": []
     },
     "output_type": "display_data"
    }
   ],
   "source": [
    "confirmed_forecast_plot =prop.plot_components(forecast)"
   ]
  },
  {
   "cell_type": "markdown",
   "metadata": {
    "id": "SOGP6t3_eVLt"
   },
   "source": [
    "### Prediction of Confirmed Cases in India using ARIMA Model"
   ]
  },
  {
   "cell_type": "code",
   "execution_count": 14,
   "metadata": {
    "colab": {
     "base_uri": "https://localhost:8080/",
     "height": 636
    },
    "id": "M_pnvoHWX-yY",
    "outputId": "0541791b-431d-41da-83f8-604df2adf3f2"
   },
   "outputs": [
    {
     "data": {
      "image/png": "[encoded data removed]",
      "text/plain": [
       "<Figure size 1080x720 with 1 Axes>"
      ]
     },
     "metadata": {
      "needs_background": "light",
      "tags": []
     },
     "output_type": "display_data"
    }
   ],
   "source": [
    "from statsmodels.tsa.arima_model import ARIMA\n",
    "import matplotlib.pyplot as plt\n",
    "\n",
    "from datetime import timedelta \n",
    "\n",
    "arima = ARIMA(data['y'], order=(5, 1, 0))\n",
    "arima = arima.fit(trend='c', full_output=True, disp=True)\n",
    "forecast = arima.forecast(steps= 30)\n",
    "pred = list(forecast[0])\n",
    "\n",
    "start_date = data['ds'].max()\n",
    "prediction_dates = []\n",
    "for i in range(30):\n",
    "    date = start_date + timedelta(days=1)\n",
    "    prediction_dates.append(date)\n",
    "    start_date = date\n",
    "plt.figure(figsize= (15,10))\n",
    "plt.xlabel(\"Dates\",fontsize = 20)\n",
    "plt.ylabel('Total cases',fontsize = 20)\n",
    "plt.title(\"Predicted Values for the next 15 Days\" , fontsize = 20)\n",
    "\n",
    "plt.plot_date(y= pred,x= prediction_dates,linestyle ='dashed',color = '#ff9999',label = 'Predicted');\n",
    "plt.plot_date(y=data['y'],x=data['ds'],linestyle = '-',color = 'blue',label = 'Actual');\n",
    "plt.legend();"
   ]
  },
  {
   "cell_type": "code",
   "execution_count": null,
   "metadata": {
    "id": "C7yf5ezvYw_S"
   },
   "outputs": [],
   "source": []
  }
 ],
 "metadata": {
  "accelerator": "GPU",
  "colab": {
   "name": "Covid-19 India Prediction.ipynb",
   "provenance": []
  },
  "kernelspec": {
   "display_name": "Python 3",
   "language": "python",
   "name": "python3"
  },
  "language_info": {
   "codemirror_mode": {
    "name": "ipython",
    "version": 3
   },
   "file_extension": ".py",
   "mimetype": "text/x-python",
   "name": "python",
   "nbconvert_exporter": "python",
   "pygments_lexer": "ipython3",
   "version": "3.7.3"
  }
 },
 "nbformat": 4,
 "nbformat_minor": 1
}
